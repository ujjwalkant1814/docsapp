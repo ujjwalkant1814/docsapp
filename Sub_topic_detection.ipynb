{
 "cells": [
  {
   "cell_type": "markdown",
   "metadata": {},
   "source": [
    "# <font color=gray>**Topic Detection**</font>"
   ]
  },
  {
   "cell_type": "markdown",
   "metadata": {},
   "source": [
    "## <font color=gray>**Objective**</font>"
   ]
  },
  {
   "cell_type": "markdown",
   "metadata": {},
   "source": [
    "Identify health-related topics from conversational data like Twitter. The twitter data from various health news twitter handles is available below. Dataset: https://archive.ics.uci.edu/ml/machine-learning-databases/00438/Health-News-Tweets.zip"
   ]
  },
  {
   "cell_type": "markdown",
   "metadata": {},
   "source": [
    "## <font color=gray>**Task 2**</font>"
   ]
  },
  {
   "cell_type": "markdown",
   "metadata": {},
   "source": [
    "Consider a topic called “tobacco use” and find sub-topics for the same. Take a subset of the tweets data below by filtering for the keywords “smoking,” “tobacco,” “cigarette,” “cigar,” “hookah,” and “hooka.” On this subset, implement topic detection/clustering and show the sub-topics detected by your approach (representative keywords or ngrams from the topics/cluster your method disovers)"
   ]
  },
  {
   "cell_type": "markdown",
   "metadata": {},
   "source": [
    "### <font color=tan>**Steps Involved**</font>\n",
    " - **Import Dependencies**\n",
    " - **Import tweets data into a pandas dataframe**\n",
    " - **Filter tweets that belong to the sub topic \"Tobacco Use\"**\n",
    " - **Data Preprocessing**\n",
    "     - Removing URLs and Usernames\n",
    "     - Removing Stopwords and Stemming\n",
    "     - Removing digits and short words (not abbreviations)\n",
    " - **Adding Bigrams/Trigrams**\n",
    " - **Building a dictionary and assigning numbers to words**\n",
    " - **Modelling Method**\n",
    "     - LDA Python Implementation\n",
    "     - Measuring Model Perforamnce\n",
    "         - *Get Coherence Plots to get the optimum number of topics*\n",
    " - **Visualizing results**\n",
    "     - Word Cloud for top 10 words/ngrams in a topic\n",
    "     - Writing cluster output\n",
    "     - pyLDAvis Visualization\n",
    " - **Conclusion**"
   ]
  },
  {
   "cell_type": "markdown",
   "metadata": {},
   "source": [
    " ### <font color=tan>**Import dependencies**</font>\n",
    "\n",
    "In the first step we import all the dependencies.\n",
    "\n",
    "You have to install the packages gensim, wordcloud and pyLDAvis if they are not currently installed."
   ]
  },
  {
   "cell_type": "code",
   "execution_count": 201,
   "metadata": {},
   "outputs": [],
   "source": [
    "import pandas as pd\n",
    "import glob\n",
    "import warnings\n",
    "warnings.filterwarnings('ignore')\n",
    "\n",
    "from nltk.corpus import stopwords \n",
    "from nltk.stem.wordnet import WordNetLemmatizer\n",
    "from nltk.tokenize import RegexpTokenizer\n",
    "from nltk.stem import PorterStemmer\n",
    "import string\n",
    "import re\n",
    "\n",
    "import gensim\n",
    "from gensim.models import Phrases\n",
    "from gensim import corpora\n",
    "from gensim.utils import simple_preprocess\n",
    "from gensim.models import CoherenceModel\n",
    "from numpy import array\n",
    "\n",
    "import pyLDAvis.gensim\n",
    "\n",
    "from matplotlib import pyplot as plt\n",
    "import matplotlib.colors as mcolors\n",
    "from wordcloud import WordCloud, STOPWORDS\n",
    "\n",
    "import time"
   ]
  },
  {
   "cell_type": "markdown",
   "metadata": {},
   "source": [
    "### <font color=tan>**Import tweets data into a pandas dataframe**</font>\n",
    "The downloaded data is saved in a folder \"Health-Tweets\" in the root directory. Let's download this data into a dataframe.I encountered several failures when I tried to read the data:\n",
    "- some files use ISO-8859-1 encoding (Try and except block used to deal with this)\n",
    "- some lines have '|' in the comments which is a delimiter for the file (I have skipped these lines for now using error_bad_lines = False)<br>\n",
    "\n",
    "Finally we rename the columns of the data and our tweets data is ready."
   ]
  },
  {
   "cell_type": "code",
   "execution_count": 202,
   "metadata": {},
   "outputs": [
    {
     "name": "stderr",
     "output_type": "stream",
     "text": [
      "b'Skipping line 846: expected 3 fields, saw 4\\nSkipping line 904: expected 3 fields, saw 4\\nSkipping line 914: expected 3 fields, saw 4\\nSkipping line 1264: expected 3 fields, saw 4\\nSkipping line 1269: expected 3 fields, saw 4\\nSkipping line 1293: expected 3 fields, saw 4\\nSkipping line 1348: expected 3 fields, saw 4\\nSkipping line 1430: expected 3 fields, saw 4\\nSkipping line 1486: expected 3 fields, saw 4\\nSkipping line 1710: expected 3 fields, saw 4\\nSkipping line 2699: expected 3 fields, saw 4\\nSkipping line 2728: expected 3 fields, saw 4\\nSkipping line 3000: expected 3 fields, saw 4\\n'\n",
      "b'Skipping line 1422: expected 3 fields, saw 4\\nSkipping line 1461: expected 3 fields, saw 4\\nSkipping line 1468: expected 3 fields, saw 4\\nSkipping line 1507: expected 3 fields, saw 4\\nSkipping line 1547: expected 3 fields, saw 4\\nSkipping line 1728: expected 3 fields, saw 4\\nSkipping line 1738: expected 3 fields, saw 4\\nSkipping line 1742: expected 3 fields, saw 4\\nSkipping line 1847: expected 3 fields, saw 5\\nSkipping line 2082: expected 3 fields, saw 4\\nSkipping line 2125: expected 3 fields, saw 4\\nSkipping line 3860: expected 3 fields, saw 4\\n'\n",
      "b'Skipping line 638: expected 3 fields, saw 4\\nSkipping line 966: expected 3 fields, saw 4\\nSkipping line 1890: expected 3 fields, saw 4\\nSkipping line 2601: expected 3 fields, saw 4\\nSkipping line 2602: expected 3 fields, saw 4\\nSkipping line 2606: expected 3 fields, saw 4\\nSkipping line 2609: expected 3 fields, saw 4\\nSkipping line 2611: expected 3 fields, saw 4\\nSkipping line 2627: expected 3 fields, saw 4\\nSkipping line 2642: expected 3 fields, saw 4\\nSkipping line 2647: expected 3 fields, saw 4\\nSkipping line 2656: expected 3 fields, saw 4\\nSkipping line 2662: expected 3 fields, saw 4\\nSkipping line 2663: expected 3 fields, saw 4\\nSkipping line 2664: expected 3 fields, saw 4\\nSkipping line 2665: expected 3 fields, saw 4\\nSkipping line 2667: expected 3 fields, saw 4\\nSkipping line 2670: expected 3 fields, saw 4\\n'\n",
      "b'Skipping line 4015: expected 3 fields, saw 4\\nSkipping line 6118: expected 3 fields, saw 4\\nSkipping line 6354: expected 3 fields, saw 4\\nSkipping line 6429: expected 3 fields, saw 4\\nSkipping line 6528: expected 3 fields, saw 4\\nSkipping line 6930: expected 3 fields, saw 4\\nSkipping line 6944: expected 3 fields, saw 4\\nSkipping line 6948: expected 3 fields, saw 4\\nSkipping line 6949: expected 3 fields, saw 4\\nSkipping line 6951: expected 3 fields, saw 5\\nSkipping line 6954: expected 3 fields, saw 4\\nSkipping line 6956: expected 3 fields, saw 4\\nSkipping line 6965: expected 3 fields, saw 4\\nSkipping line 6984: expected 3 fields, saw 4\\nSkipping line 6988: expected 3 fields, saw 4\\nSkipping line 7020: expected 3 fields, saw 4\\nSkipping line 7049: expected 3 fields, saw 4\\nSkipping line 7058: expected 3 fields, saw 4\\nSkipping line 7118: expected 3 fields, saw 4\\nSkipping line 7126: expected 3 fields, saw 4\\nSkipping line 7131: expected 3 fields, saw 4\\nSkipping line 7135: expected 3 fields, saw 4\\nSkipping line 7163: expected 3 fields, saw 4\\nSkipping line 7177: expected 3 fields, saw 4\\nSkipping line 7223: expected 3 fields, saw 4\\nSkipping line 7240: expected 3 fields, saw 4\\nSkipping line 7241: expected 3 fields, saw 4\\nSkipping line 7277: expected 3 fields, saw 4\\nSkipping line 7289: expected 3 fields, saw 4\\nSkipping line 7293: expected 3 fields, saw 4\\nSkipping line 7320: expected 3 fields, saw 4\\nSkipping line 7327: expected 3 fields, saw 4\\nSkipping line 7334: expected 3 fields, saw 4\\nSkipping line 7338: expected 3 fields, saw 4\\nSkipping line 7345: expected 3 fields, saw 4\\nSkipping line 7374: expected 3 fields, saw 4\\nSkipping line 7380: expected 3 fields, saw 4\\nSkipping line 7383: expected 3 fields, saw 4\\nSkipping line 7392: expected 3 fields, saw 4\\nSkipping line 7409: expected 3 fields, saw 4\\nSkipping line 7412: expected 3 fields, saw 4\\nSkipping line 7418: expected 3 fields, saw 4\\nSkipping line 7422: expected 3 fields, saw 4\\nSkipping line 7427: expected 3 fields, saw 4\\nSkipping line 7439: expected 3 fields, saw 4\\nSkipping line 7446: expected 3 fields, saw 4\\nSkipping line 7447: expected 3 fields, saw 4\\nSkipping line 7458: expected 3 fields, saw 4\\nSkipping line 7484: expected 3 fields, saw 4\\nSkipping line 7498: expected 3 fields, saw 4\\nSkipping line 7502: expected 3 fields, saw 4\\nSkipping line 7505: expected 3 fields, saw 4\\nSkipping line 7512: expected 3 fields, saw 4\\nSkipping line 7537: expected 3 fields, saw 4\\nSkipping line 7538: expected 3 fields, saw 4\\nSkipping line 7544: expected 3 fields, saw 4\\nSkipping line 7552: expected 3 fields, saw 4\\nSkipping line 7572: expected 3 fields, saw 4\\nSkipping line 7573: expected 3 fields, saw 4\\nSkipping line 7588: expected 3 fields, saw 4\\nSkipping line 7647: expected 3 fields, saw 4\\nSkipping line 7664: expected 3 fields, saw 4\\nSkipping line 7670: expected 3 fields, saw 4\\nSkipping line 7691: expected 3 fields, saw 4\\nSkipping line 7715: expected 3 fields, saw 4\\nSkipping line 7746: expected 3 fields, saw 4\\nSkipping line 7755: expected 3 fields, saw 4\\nSkipping line 7769: expected 3 fields, saw 4\\nSkipping line 7775: expected 3 fields, saw 4\\n'\n",
      "b'Skipping line 523: expected 3 fields, saw 4\\n'\n",
      "b'Skipping line 523: expected 3 fields, saw 4\\n'\n"
     ]
    },
    {
     "name": "stdout",
     "output_type": "stream",
     "text": [
      "Using ISO-8859-1 encoding for Health-Tweets\\foxnewshealth.txt\n",
      "Using ISO-8859-1 encoding for Health-Tweets\\KaiserHealthNews.txt\n",
      "Using ISO-8859-1 encoding for Health-Tweets\\msnhealthnews.txt\n",
      "Using ISO-8859-1 encoding for Health-Tweets\\NBChealth.txt\n",
      "Using ISO-8859-1 encoding for Health-Tweets\\wsjhealth.txt\n"
     ]
    },
    {
     "name": "stderr",
     "output_type": "stream",
     "text": [
      "b'Skipping line 71: expected 3 fields, saw 4\\nSkipping line 88: expected 3 fields, saw 4\\nSkipping line 130: expected 3 fields, saw 4\\nSkipping line 145: expected 3 fields, saw 4\\nSkipping line 257: expected 3 fields, saw 4\\nSkipping line 272: expected 3 fields, saw 4\\nSkipping line 325: expected 3 fields, saw 4\\nSkipping line 401: expected 3 fields, saw 4\\nSkipping line 412: expected 3 fields, saw 4\\nSkipping line 426: expected 3 fields, saw 4\\nSkipping line 507: expected 3 fields, saw 4\\nSkipping line 813: expected 3 fields, saw 4\\nSkipping line 1319: expected 3 fields, saw 4\\nSkipping line 1576: expected 3 fields, saw 4\\nSkipping line 1592: expected 3 fields, saw 4\\nSkipping line 1686: expected 3 fields, saw 4\\nSkipping line 1929: expected 3 fields, saw 4\\nSkipping line 2019: expected 3 fields, saw 4\\nSkipping line 2359: expected 3 fields, saw 4\\nSkipping line 2438: expected 3 fields, saw 4\\nSkipping line 2679: expected 3 fields, saw 4\\nSkipping line 2680: expected 3 fields, saw 4\\nSkipping line 2681: expected 3 fields, saw 4\\nSkipping line 3098: expected 3 fields, saw 4\\nSkipping line 3380: expected 3 fields, saw 4\\nSkipping line 3723: expected 3 fields, saw 4\\nSkipping line 4013: expected 3 fields, saw 4\\nSkipping line 4024: expected 3 fields, saw 4\\nSkipping line 4026: expected 3 fields, saw 4\\nSkipping line 4181: expected 3 fields, saw 4\\nSkipping line 4283: expected 3 fields, saw 4\\nSkipping line 4305: expected 3 fields, saw 4\\nSkipping line 4403: expected 3 fields, saw 4\\nSkipping line 4443: expected 3 fields, saw 4\\nSkipping line 4475: expected 3 fields, saw 4\\nSkipping line 4576: expected 3 fields, saw 4\\nSkipping line 4636: expected 3 fields, saw 4\\nSkipping line 4661: expected 3 fields, saw 4\\nSkipping line 4739: expected 3 fields, saw 4\\nSkipping line 4780: expected 3 fields, saw 4\\nSkipping line 4782: expected 3 fields, saw 4\\nSkipping line 4783: expected 3 fields, saw 4\\nSkipping line 4798: expected 3 fields, saw 4\\nSkipping line 4805: expected 3 fields, saw 4\\nSkipping line 4816: expected 3 fields, saw 4\\nSkipping line 4905: expected 3 fields, saw 4\\nSkipping line 4922: expected 3 fields, saw 4\\nSkipping line 4954: expected 3 fields, saw 4\\nSkipping line 4955: expected 3 fields, saw 4\\nSkipping line 4956: expected 3 fields, saw 4\\nSkipping line 4989: expected 3 fields, saw 4\\nSkipping line 5020: expected 3 fields, saw 4\\nSkipping line 5021: expected 3 fields, saw 4\\nSkipping line 5036: expected 3 fields, saw 4\\nSkipping line 5051: expected 3 fields, saw 4\\nSkipping line 5076: expected 3 fields, saw 4\\nSkipping line 5096: expected 3 fields, saw 4\\nSkipping line 5164: expected 3 fields, saw 4\\nSkipping line 5165: expected 3 fields, saw 4\\nSkipping line 5175: expected 3 fields, saw 4\\nSkipping line 5178: expected 3 fields, saw 4\\nSkipping line 5192: expected 3 fields, saw 4\\nSkipping line 5261: expected 3 fields, saw 4\\nSkipping line 5322: expected 3 fields, saw 4\\nSkipping line 5329: expected 3 fields, saw 4\\nSkipping line 5376: expected 3 fields, saw 4\\nSkipping line 5380: expected 3 fields, saw 4\\nSkipping line 5383: expected 3 fields, saw 4\\nSkipping line 5400: expected 3 fields, saw 4\\nSkipping line 5414: expected 3 fields, saw 4\\nSkipping line 5448: expected 3 fields, saw 4\\nSkipping line 5465: expected 3 fields, saw 4\\nSkipping line 5477: expected 3 fields, saw 4\\nSkipping line 5495: expected 3 fields, saw 4\\nSkipping line 5515: expected 3 fields, saw 4\\nSkipping line 5521: expected 3 fields, saw 4\\nSkipping line 5558: expected 3 fields, saw 4\\nSkipping line 5587: expected 3 fields, saw 4\\nSkipping line 5624: expected 3 fields, saw 4\\nSkipping line 5637: expected 3 fields, saw 4\\nSkipping line 5686: expected 3 fields, saw 4\\nSkipping line 5710: expected 3 fields, saw 4\\nSkipping line 5767: expected 3 fields, saw 4\\nSkipping line 5791: expected 3 fields, saw 4\\nSkipping line 5799: expected 3 fields, saw 4\\nSkipping line 5845: expected 3 fields, saw 4\\nSkipping line 5861: expected 3 fields, saw 4\\nSkipping line 5868: expected 3 fields, saw 4\\nSkipping line 5901: expected 3 fields, saw 4\\nSkipping line 5923: expected 3 fields, saw 4\\nSkipping line 5925: expected 3 fields, saw 4\\nSkipping line 5928: expected 3 fields, saw 4\\nSkipping line 5946: expected 3 fields, saw 4\\nSkipping line 5957: expected 3 fields, saw 4\\nSkipping line 5958: expected 3 fields, saw 4\\nSkipping line 5997: expected 3 fields, saw 4\\nSkipping line 6017: expected 3 fields, saw 4\\nSkipping line 6037: expected 3 fields, saw 4\\n'\n"
     ]
    }
   ],
   "source": [
    "files = glob.glob(\"Health-Tweets/*.txt\")\n",
    "\n",
    "data = pd.DataFrame({})\n",
    "for i in files:\n",
    "    try:\n",
    "        data_i = pd.read_csv(i, \n",
    "                             sep =\"|\", \n",
    "                             header =  None,\n",
    "                             error_bad_lines = False)\n",
    "    except UnicodeDecodeError:\n",
    "        print(\"Using ISO-8859-1 encoding for %s\"%(i))\n",
    "        data_i = pd.read_csv(i, \n",
    "                             sep =\"|\", \n",
    "                             header =  None,\n",
    "                             error_bad_lines = False,\n",
    "                             encoding = \"ISO-8859-1\")\n",
    "    data = pd.concat([data, data_i], axis = 0)\n",
    "\n",
    "data.columns = ['ID','Date','Comment']\n",
    "\n",
    "data.reset_index(drop = True, inplace = True)"
   ]
  },
  {
   "cell_type": "code",
   "execution_count": 20,
   "metadata": {},
   "outputs": [
    {
     "name": "stdout",
     "output_type": "stream",
     "text": [
      "(62817, 3)\n"
     ]
    },
    {
     "data": {
      "text/html": [
       "<div>\n",
       "<style scoped>\n",
       "    .dataframe tbody tr th:only-of-type {\n",
       "        vertical-align: middle;\n",
       "    }\n",
       "\n",
       "    .dataframe tbody tr th {\n",
       "        vertical-align: top;\n",
       "    }\n",
       "\n",
       "    .dataframe thead th {\n",
       "        text-align: right;\n",
       "    }\n",
       "</style>\n",
       "<table border=\"1\" class=\"dataframe\">\n",
       "  <thead>\n",
       "    <tr style=\"text-align: right;\">\n",
       "      <th></th>\n",
       "      <th>ID</th>\n",
       "      <th>Date</th>\n",
       "      <th>Comment</th>\n",
       "    </tr>\n",
       "  </thead>\n",
       "  <tbody>\n",
       "    <tr>\n",
       "      <th>0</th>\n",
       "      <td>585978391360221184</td>\n",
       "      <td>Thu Apr 09 01:31:50 +0000 2015</td>\n",
       "      <td>Breast cancer risk test devised http://bbc.in/1CimpJF</td>\n",
       "    </tr>\n",
       "    <tr>\n",
       "      <th>1</th>\n",
       "      <td>585947808772960257</td>\n",
       "      <td>Wed Apr 08 23:30:18 +0000 2015</td>\n",
       "      <td>GP workload harming care - BMA poll http://bbc.in/1ChTBRv</td>\n",
       "    </tr>\n",
       "    <tr>\n",
       "      <th>2</th>\n",
       "      <td>585947807816650752</td>\n",
       "      <td>Wed Apr 08 23:30:18 +0000 2015</td>\n",
       "      <td>Short people's 'heart risk greater' http://bbc.in/1ChTANp</td>\n",
       "    </tr>\n",
       "    <tr>\n",
       "      <th>3</th>\n",
       "      <td>585866060991078401</td>\n",
       "      <td>Wed Apr 08 18:05:28 +0000 2015</td>\n",
       "      <td>New approach against HIV 'promising' http://bbc.in/1E6jAjt</td>\n",
       "    </tr>\n",
       "    <tr>\n",
       "      <th>4</th>\n",
       "      <td>585794106170839041</td>\n",
       "      <td>Wed Apr 08 13:19:33 +0000 2015</td>\n",
       "      <td>Coalition 'undermined NHS' - doctors http://bbc.in/1CnLwK7</td>\n",
       "    </tr>\n",
       "    <tr>\n",
       "      <th>5</th>\n",
       "      <td>585733482413891584</td>\n",
       "      <td>Wed Apr 08 09:18:39 +0000 2015</td>\n",
       "      <td>Review of case against NHS manager http://bbc.in/1Ffj6ci</td>\n",
       "    </tr>\n",
       "    <tr>\n",
       "      <th>6</th>\n",
       "      <td>585733481608646657</td>\n",
       "      <td>Wed Apr 08 09:18:39 +0000 2015</td>\n",
       "      <td>VIDEO: 'All day is empty, what am I going to do?' http://bbc.in/1N7wSSz</td>\n",
       "    </tr>\n",
       "    <tr>\n",
       "      <th>7</th>\n",
       "      <td>585701601131765761</td>\n",
       "      <td>Wed Apr 08 07:11:58 +0000 2015</td>\n",
       "      <td>VIDEO: 'Overhaul needed' for end-of-life care http://bbc.in/1CmrRu3</td>\n",
       "    </tr>\n",
       "    <tr>\n",
       "      <th>8</th>\n",
       "      <td>585620828110397440</td>\n",
       "      <td>Wed Apr 08 01:51:00 +0000 2015</td>\n",
       "      <td>Care for dying 'needs overhaul' http://bbc.in/1FdSGrl</td>\n",
       "    </tr>\n",
       "    <tr>\n",
       "      <th>9</th>\n",
       "      <td>585437294120677376</td>\n",
       "      <td>Tue Apr 07 13:41:42 +0000 2015</td>\n",
       "      <td>VIDEO: NHS: Labour and Tory key policies http://bbc.in/1Ci5eqD</td>\n",
       "    </tr>\n",
       "    <tr>\n",
       "      <th>10</th>\n",
       "      <td>585437293399252992</td>\n",
       "      <td>Tue Apr 07 13:41:42 +0000 2015</td>\n",
       "      <td>Have GP services got worse? http://bbc.in/1Ci5c22</td>\n",
       "    </tr>\n",
       "    <tr>\n",
       "      <th>11</th>\n",
       "      <td>585376127931129857</td>\n",
       "      <td>Tue Apr 07 09:38:39 +0000 2015</td>\n",
       "      <td>A&amp;amp;E waiting hits new worst level http://bbc.in/1Fa4Xgz</td>\n",
       "    </tr>\n",
       "    <tr>\n",
       "      <th>12</th>\n",
       "      <td>585283574888206336</td>\n",
       "      <td>Tue Apr 07 03:30:52 +0000 2015</td>\n",
       "      <td>Parties row over GP opening hours http://bbc.in/1CfcVOb</td>\n",
       "    </tr>\n",
       "    <tr>\n",
       "      <th>13</th>\n",
       "      <td>585231549819330560</td>\n",
       "      <td>Tue Apr 07 00:04:09 +0000 2015</td>\n",
       "      <td>Why strenuous runs may not be so bad after all http://bbc.in/1Ceq0Y7</td>\n",
       "    </tr>\n",
       "    <tr>\n",
       "      <th>14</th>\n",
       "      <td>584985578074050560</td>\n",
       "      <td>Mon Apr 06 07:46:44 +0000 2015</td>\n",
       "      <td>VIDEO: Health surcharge for non-EU patients http://bbc.in/1C5Mlbk</td>\n",
       "    </tr>\n",
       "  </tbody>\n",
       "</table>\n",
       "</div>"
      ],
      "text/plain": [
       "                    ID                            Date  \\\n",
       "0   585978391360221184  Thu Apr 09 01:31:50 +0000 2015   \n",
       "1   585947808772960257  Wed Apr 08 23:30:18 +0000 2015   \n",
       "2   585947807816650752  Wed Apr 08 23:30:18 +0000 2015   \n",
       "3   585866060991078401  Wed Apr 08 18:05:28 +0000 2015   \n",
       "4   585794106170839041  Wed Apr 08 13:19:33 +0000 2015   \n",
       "5   585733482413891584  Wed Apr 08 09:18:39 +0000 2015   \n",
       "6   585733481608646657  Wed Apr 08 09:18:39 +0000 2015   \n",
       "7   585701601131765761  Wed Apr 08 07:11:58 +0000 2015   \n",
       "8   585620828110397440  Wed Apr 08 01:51:00 +0000 2015   \n",
       "9   585437294120677376  Tue Apr 07 13:41:42 +0000 2015   \n",
       "10  585437293399252992  Tue Apr 07 13:41:42 +0000 2015   \n",
       "11  585376127931129857  Tue Apr 07 09:38:39 +0000 2015   \n",
       "12  585283574888206336  Tue Apr 07 03:30:52 +0000 2015   \n",
       "13  585231549819330560  Tue Apr 07 00:04:09 +0000 2015   \n",
       "14  584985578074050560  Mon Apr 06 07:46:44 +0000 2015   \n",
       "\n",
       "                                                                    Comment  \n",
       "0   Breast cancer risk test devised http://bbc.in/1CimpJF                    \n",
       "1   GP workload harming care - BMA poll http://bbc.in/1ChTBRv                \n",
       "2   Short people's 'heart risk greater' http://bbc.in/1ChTANp                \n",
       "3   New approach against HIV 'promising' http://bbc.in/1E6jAjt               \n",
       "4   Coalition 'undermined NHS' - doctors http://bbc.in/1CnLwK7               \n",
       "5   Review of case against NHS manager http://bbc.in/1Ffj6ci                 \n",
       "6   VIDEO: 'All day is empty, what am I going to do?' http://bbc.in/1N7wSSz  \n",
       "7   VIDEO: 'Overhaul needed' for end-of-life care http://bbc.in/1CmrRu3      \n",
       "8   Care for dying 'needs overhaul' http://bbc.in/1FdSGrl                    \n",
       "9   VIDEO: NHS: Labour and Tory key policies http://bbc.in/1Ci5eqD           \n",
       "10  Have GP services got worse? http://bbc.in/1Ci5c22                        \n",
       "11  A&amp;E waiting hits new worst level http://bbc.in/1Fa4Xgz               \n",
       "12  Parties row over GP opening hours http://bbc.in/1CfcVOb                  \n",
       "13  Why strenuous runs may not be so bad after all http://bbc.in/1Ceq0Y7     \n",
       "14  VIDEO: Health surcharge for non-EU patients http://bbc.in/1C5Mlbk        "
      ]
     },
     "execution_count": 20,
     "metadata": {},
     "output_type": "execute_result"
    }
   ],
   "source": [
    "pd.options.display.max_rows\n",
    "pd.set_option('display.max_colwidth', -1)\n",
    "print(data.shape)\n",
    "data[0:15]"
   ]
  },
  {
   "cell_type": "markdown",
   "metadata": {},
   "source": [
    "### <font color=tan>**Filter tweets that belong to the sub topic \"Tobacco Use\"**</font>\n",
    "Let's filter the tweets that contain the words \"smoking”, “tobacco”, “cigarette”, “cigar”, “hookah”, and “hooka”."
   ]
  },
  {
   "cell_type": "code",
   "execution_count": 203,
   "metadata": {},
   "outputs": [
    {
     "name": "stdout",
     "output_type": "stream",
     "text": [
      "(824, 3)\n"
     ]
    },
    {
     "data": {
      "text/html": [
       "<div>\n",
       "<style scoped>\n",
       "    .dataframe tbody tr th:only-of-type {\n",
       "        vertical-align: middle;\n",
       "    }\n",
       "\n",
       "    .dataframe tbody tr th {\n",
       "        vertical-align: top;\n",
       "    }\n",
       "\n",
       "    .dataframe thead th {\n",
       "        text-align: right;\n",
       "    }\n",
       "</style>\n",
       "<table border=\"1\" class=\"dataframe\">\n",
       "  <thead>\n",
       "    <tr style=\"text-align: right;\">\n",
       "      <th></th>\n",
       "      <th>ID</th>\n",
       "      <th>Date</th>\n",
       "      <th>Comment</th>\n",
       "    </tr>\n",
       "  </thead>\n",
       "  <tbody>\n",
       "    <tr>\n",
       "      <th>40</th>\n",
       "      <td>582687698772623361</td>\n",
       "      <td>Mon Mar 30 23:35:47 +0000 2015</td>\n",
       "      <td>E-cigarette use 'high among teens' http://bbc.in/1DhbCn6</td>\n",
       "    </tr>\n",
       "    <tr>\n",
       "      <th>106</th>\n",
       "      <td>578245454342680576</td>\n",
       "      <td>Wed Mar 18 17:23:54 +0000 2015</td>\n",
       "      <td>New global fund for tobacco control http://bbc.in/1GXRp4y</td>\n",
       "    </tr>\n",
       "    <tr>\n",
       "      <th>154</th>\n",
       "      <td>575700738459881472</td>\n",
       "      <td>Wed Mar 11 16:52:06 +0000 2015</td>\n",
       "      <td>MPs back standardised cigarette packs http://bbc.in/1HCTgwo</td>\n",
       "    </tr>\n",
       "    <tr>\n",
       "      <th>156</th>\n",
       "      <td>575683226250833920</td>\n",
       "      <td>Wed Mar 11 15:42:31 +0000 2015</td>\n",
       "      <td>Are anti-smoking measures working? http://bbc.in/1Fb1Enz</td>\n",
       "    </tr>\n",
       "    <tr>\n",
       "      <th>159</th>\n",
       "      <td>575467669828169728</td>\n",
       "      <td>Wed Mar 11 01:25:58 +0000 2015</td>\n",
       "      <td>Cigarette plain packaging vote due http://bbc.in/1Hy9aZ1</td>\n",
       "    </tr>\n",
       "  </tbody>\n",
       "</table>\n",
       "</div>"
      ],
      "text/plain": [
       "                     ID                            Date  \\\n",
       "40   582687698772623361  Mon Mar 30 23:35:47 +0000 2015   \n",
       "106  578245454342680576  Wed Mar 18 17:23:54 +0000 2015   \n",
       "154  575700738459881472  Wed Mar 11 16:52:06 +0000 2015   \n",
       "156  575683226250833920  Wed Mar 11 15:42:31 +0000 2015   \n",
       "159  575467669828169728  Wed Mar 11 01:25:58 +0000 2015   \n",
       "\n",
       "                                                         Comment  \n",
       "40   E-cigarette use 'high among teens' http://bbc.in/1DhbCn6     \n",
       "106  New global fund for tobacco control http://bbc.in/1GXRp4y    \n",
       "154  MPs back standardised cigarette packs http://bbc.in/1HCTgwo  \n",
       "156  Are anti-smoking measures working? http://bbc.in/1Fb1Enz     \n",
       "159  Cigarette plain packaging vote due http://bbc.in/1Hy9aZ1     "
      ]
     },
     "execution_count": 203,
     "metadata": {},
     "output_type": "execute_result"
    }
   ],
   "source": [
    "#convert the docs to lowercase\n",
    "doc_lower = data.Comment.str.lower()\n",
    "data_tobacco = data[doc_lower.str.contains('smoking|tobacco|cigarette|cigar|hookah|hooka')]\n",
    "print(data_tobacco.shape)\n",
    "data_tobacco.head()"
   ]
  },
  {
   "cell_type": "markdown",
   "metadata": {},
   "source": [
    "### <font color=tan>**Data Preprocessing**</font>\n",
    " - **Removing URLs** : Remove the URLs in the data using re.sub\n",
    " - **Removing Usernames** : Data has usernames that look like \"@something\". So, we remove them.\n",
    " - **Remove Stopwords** : We remove frequently occuring words like \"the\",\"him\",\"your\" and so on that do not add any value to the topic.\n",
    " - **Remove small words** : We remove small words which have less than 4 characters. Although a mojority of this would already be removed when we are removing the stop words but a few can be still three. We do not remove abbreviations like \"HIV\",\"CDC\" which could essentially add value to the topic.\n",
    " - **Stemming** : We have to convert words to their root words to normalize the words. So, plays,playing and played all will be converted to the common root word play. We will use \"PorterStemmer\" to do the job for us. \n",
    " \n",
    " We also remove the numbers from the data as it is unlikely to contribute to the topic and split the document into individual words.\n",
    " \n",
    " We have made a function docs_preprocessor that takes the array of comments as arguments and returns a list of lists as output. We will have a look at the output later."
   ]
  },
  {
   "cell_type": "code",
   "execution_count": 204,
   "metadata": {},
   "outputs": [],
   "source": [
    "def docs_preprocessor(docs):\n",
    "    \"\"\"\n",
    "    Function to preprocess the tweets.\n",
    "    \"\"\"\n",
    "    #remove website address from the tweets\n",
    "    docs = [re.sub(r'http\\S+', '', x, flags=re.MULTILINE) for x in docs]\n",
    "    \n",
    "    #remove usernames that start as 'RT @something'\n",
    "    docs = [re.sub(r'RT @.*:', '', x, flags=re.MULTILINE) for x in docs]\n",
    "    \n",
    "    # Split into words.\n",
    "    tokenizer = RegexpTokenizer(r'[-a-zA-Z0-9_]+')\n",
    "    for idx in range(len(docs)):\n",
    "        docs[idx] = tokenizer.tokenize(docs[idx])  \n",
    "\n",
    "    # Remove stopwords\n",
    "    stop = set(stopwords.words('english'))\n",
    "    docs = [[token for token in doc if token not in stop] for doc in docs]\n",
    "    \n",
    "    # Remove numbers, but not words that contain numbers\n",
    "    docs = [[token for token in doc if not token.isdigit()] for doc in docs]\n",
    "    \n",
    "    #remove one letter tokens\n",
    "    docs = [[token for token in doc if (len(token) > 1)] for doc in docs]\n",
    "    \n",
    "    # Remove small words that are not abbreviations(assuming abbreviations used are capitalized).\n",
    "    docs = [[token for token in doc if (len(token) > 3) | (token.isupper())] for doc in docs]\n",
    "    \n",
    "    # Convert to lowercase\n",
    "    docs = [[token.lower() for token in doc] for doc in docs]\n",
    "    \n",
    "    # Stemming all words in documents \n",
    "    # For words that contain hyphen(-) , the words are split and then stemming \n",
    "    #is applied to the split components and then the split components are joined\n",
    "    #lemmatizer = WordNetLemmatizer() -- not being used\n",
    "    porter = PorterStemmer()\n",
    "    docs = [[porter.stem(token) if token.find('-') == -1 else \n",
    "             '-'.join([porter.stem(sub_token) for sub_token in token.split('-')])\n",
    "             for token in doc] for doc in docs]\n",
    "  \n",
    "    return docs"
   ]
  },
  {
   "cell_type": "code",
   "execution_count": 205,
   "metadata": {},
   "outputs": [],
   "source": [
    "docs = array(data_tobacco['Comment'])\n",
    "docs = docs_preprocessor(docs)"
   ]
  },
  {
   "cell_type": "code",
   "execution_count": 206,
   "metadata": {},
   "outputs": [
    {
     "data": {
      "text/plain": [
       "40     E-cigarette use 'high among teens' http://bbc.in/1DhbCn6   \n",
       "106    New global fund for tobacco control http://bbc.in/1GXRp4y  \n",
       "154    MPs back standardised cigarette packs http://bbc.in/1HCTgwo\n",
       "156    Are anti-smoking measures working? http://bbc.in/1Fb1Enz   \n",
       "159    Cigarette plain packaging vote due http://bbc.in/1Hy9aZ1   \n",
       "Name: Comment, dtype: object"
      ]
     },
     "execution_count": 206,
     "metadata": {},
     "output_type": "execute_result"
    }
   ],
   "source": [
    "data_tobacco['Comment'].head()"
   ]
  },
  {
   "cell_type": "code",
   "execution_count": 207,
   "metadata": {},
   "outputs": [
    {
     "data": {
      "text/plain": [
       "[['e-cigarett', 'high', 'among', 'teen'],\n",
       " ['global', 'fund', 'tobacco', 'control'],\n",
       " ['back', 'standardis', 'cigarett', 'pack'],\n",
       " ['anti-smoke', 'measur', 'work'],\n",
       " ['cigarett', 'plain', 'packag', 'vote']]"
      ]
     },
     "execution_count": 207,
     "metadata": {},
     "output_type": "execute_result"
    }
   ],
   "source": [
    "docs[0:5]"
   ]
  },
  {
   "cell_type": "markdown",
   "metadata": {},
   "source": [
    "We can see the difference from the preprocessing."
   ]
  },
  {
   "cell_type": "markdown",
   "metadata": {},
   "source": [
    "### <font color=tan>**Adding Bigrams/Trigrams to documents**</font>\n",
    "We add bigrams and trigrams to see the distribution of the combination of words in the document. We can see a few bigrams like **\"Cigarette_pack\"** and **\"Global_fund\"** could be useful for our analysis."
   ]
  },
  {
   "cell_type": "code",
   "execution_count": 208,
   "metadata": {},
   "outputs": [],
   "source": [
    "bigram = Phrases(docs, min_count = 5)\n",
    "trigram = Phrases(bigram[docs])\n",
    "\n",
    "for idx in range(len(docs)):\n",
    "    for token in bigram[docs[idx]]:\n",
    "        if token.count('_') == 1:\n",
    "            # Token is a bigram, add to document.\n",
    "            docs[idx].append(token)\n",
    "    for token in trigram[bigram[docs[idx]]]:\n",
    "        if token.count('_') == 2:\n",
    "            # Token is a bigram, add to document.\n",
    "            docs[idx].append(token)"
   ]
  },
  {
   "cell_type": "code",
   "execution_count": 209,
   "metadata": {},
   "outputs": [
    {
     "data": {
      "text/plain": [
       "40     E-cigarette use 'high among teens' http://bbc.in/1DhbCn6   \n",
       "106    New global fund for tobacco control http://bbc.in/1GXRp4y  \n",
       "154    MPs back standardised cigarette packs http://bbc.in/1HCTgwo\n",
       "156    Are anti-smoking measures working? http://bbc.in/1Fb1Enz   \n",
       "159    Cigarette plain packaging vote due http://bbc.in/1Hy9aZ1   \n",
       "Name: Comment, dtype: object"
      ]
     },
     "execution_count": 209,
     "metadata": {},
     "output_type": "execute_result"
    }
   ],
   "source": [
    "data_tobacco['Comment'].head()"
   ]
  },
  {
   "cell_type": "code",
   "execution_count": 210,
   "metadata": {},
   "outputs": [
    {
     "data": {
      "text/plain": [
       "[['e-cigarett', 'high', 'among', 'teen'],\n",
       " ['global', 'fund', 'tobacco', 'control'],\n",
       " ['back', 'standardis', 'cigarett', 'pack', 'cigarett_pack'],\n",
       " ['anti-smoke', 'measur', 'work'],\n",
       " ['cigarett', 'plain', 'packag', 'vote']]"
      ]
     },
     "execution_count": 210,
     "metadata": {},
     "output_type": "execute_result"
    }
   ],
   "source": [
    "docs[0:5]"
   ]
  },
  {
   "cell_type": "markdown",
   "metadata": {},
   "source": [
    "Looks like the bigrams and trigrams have been created. Lets proceed."
   ]
  },
  {
   "cell_type": "markdown",
   "metadata": {},
   "source": [
    "#### <font color=tan>Building a dictionary and assigning numbers to words</font>\n",
    "We create a dictionary consisting of all the unique words that occur in our corpus/data. We remove the frequently occcuring words (greater than 40% of corpus) and rarely occuring words(frequency less than 5). \n",
    "\n",
    "We convert all the words to id/number and their repective counts in each document is present as a tuple.So, each tweet now is converted to a list of tuples (word_id, count_word_in_doc)."
   ]
  },
  {
   "cell_type": "code",
   "execution_count": 246,
   "metadata": {},
   "outputs": [
    {
     "name": "stdout",
     "output_type": "stream",
     "text": [
      "Number of unique tokens: 118\n",
      "Number of documents: 824\n",
      "[[(0, 1), (1, 1), (2, 1), (3, 1)]]\n"
     ]
    }
   ],
   "source": [
    "# Create a dictionary representation of the documents.\n",
    "dictionary = corpora.Dictionary(docs)\n",
    "\n",
    "#Removing rare/common tokens\n",
    "dictionary.filter_extremes(no_below = 10, no_above = 0.4)\n",
    "\n",
    "corpus = [dictionary.doc2bow(doc) for doc in docs]\n",
    "print('Number of unique tokens: %d' % len(dictionary))\n",
    "print('Number of documents: %d' % len(corpus))\n",
    "print(corpus[:1])"
   ]
  },
  {
   "cell_type": "code",
   "execution_count": 247,
   "metadata": {},
   "outputs": [],
   "source": [
    "word_mapping = pd.DataFrame.from_dict(dictionary.token2id, orient='index', columns=['ID'])\n",
    "word_mapping.reset_index(inplace = True)\n",
    "word_mapping.columns = ['Word','ID']\n",
    "\n",
    "freq_count = pd.DataFrame.from_dict(dictionary.dfs, orient='index', columns=['Count'])\n",
    "freq_count.reset_index(inplace = True)\n",
    "freq_count.columns = ['ID','Count']\n",
    "\n",
    "freq_corpus = word_mapping.merge(freq_count, on = 'ID')\n",
    "freq_corpus = freq_corpus[['ID','Word','Count']]"
   ]
  },
  {
   "cell_type": "markdown",
   "metadata": {},
   "source": [
    "Lets look at some of the words that occur in most of the documents. "
   ]
  },
  {
   "cell_type": "code",
   "execution_count": 248,
   "metadata": {},
   "outputs": [
    {
     "data": {
      "text/html": [
       "<div>\n",
       "<style scoped>\n",
       "    .dataframe tbody tr th:only-of-type {\n",
       "        vertical-align: middle;\n",
       "    }\n",
       "\n",
       "    .dataframe tbody tr th {\n",
       "        vertical-align: top;\n",
       "    }\n",
       "\n",
       "    .dataframe thead th {\n",
       "        text-align: right;\n",
       "    }\n",
       "</style>\n",
       "<table border=\"1\" class=\"dataframe\">\n",
       "  <thead>\n",
       "    <tr style=\"text-align: right;\">\n",
       "      <th></th>\n",
       "      <th>ID</th>\n",
       "      <th>Word</th>\n",
       "      <th>Count</th>\n",
       "    </tr>\n",
       "  </thead>\n",
       "  <tbody>\n",
       "    <tr>\n",
       "      <th>1</th>\n",
       "      <td>1</td>\n",
       "      <td>e-cigarett</td>\n",
       "      <td>189</td>\n",
       "    </tr>\n",
       "    <tr>\n",
       "      <th>4</th>\n",
       "      <td>4</td>\n",
       "      <td>tobacco</td>\n",
       "      <td>164</td>\n",
       "    </tr>\n",
       "    <tr>\n",
       "      <th>6</th>\n",
       "      <td>6</td>\n",
       "      <td>cigarett</td>\n",
       "      <td>163</td>\n",
       "    </tr>\n",
       "    <tr>\n",
       "      <th>58</th>\n",
       "      <td>58</td>\n",
       "      <td>studi</td>\n",
       "      <td>78</td>\n",
       "    </tr>\n",
       "    <tr>\n",
       "      <th>20</th>\n",
       "      <td>20</td>\n",
       "      <td>quit</td>\n",
       "      <td>78</td>\n",
       "    </tr>\n",
       "  </tbody>\n",
       "</table>\n",
       "</div>"
      ],
      "text/plain": [
       "    ID        Word  Count\n",
       "1   1   e-cigarett  189  \n",
       "4   4   tobacco     164  \n",
       "6   6   cigarett    163  \n",
       "58  58  studi       78   \n",
       "20  20  quit        78   "
      ]
     },
     "execution_count": 248,
     "metadata": {},
     "output_type": "execute_result"
    }
   ],
   "source": [
    "freq_corpus.sort_values(by = 'Count', ascending = False).head()"
   ]
  },
  {
   "cell_type": "markdown",
   "metadata": {},
   "source": [
    "Looks like the word **\"tobacco\"** occurs in **164/824** tweets where as the word **\"e-cigarettes\"** occurs in **189/824** tweets. <br> Looks like **e-cigarettes** are a lot popular these days.\n",
    "\n",
    "Now, let's look at some of the most commonly occuring bigrams."
   ]
  },
  {
   "cell_type": "code",
   "execution_count": 249,
   "metadata": {},
   "outputs": [
    {
     "data": {
      "text/html": [
       "<div>\n",
       "<style scoped>\n",
       "    .dataframe tbody tr th:only-of-type {\n",
       "        vertical-align: middle;\n",
       "    }\n",
       "\n",
       "    .dataframe tbody tr th {\n",
       "        vertical-align: top;\n",
       "    }\n",
       "\n",
       "    .dataframe thead th {\n",
       "        text-align: right;\n",
       "    }\n",
       "</style>\n",
       "<table border=\"1\" class=\"dataframe\">\n",
       "  <thead>\n",
       "    <tr style=\"text-align: right;\">\n",
       "      <th></th>\n",
       "      <th>ID</th>\n",
       "      <th>Word</th>\n",
       "      <th>Count</th>\n",
       "    </tr>\n",
       "  </thead>\n",
       "  <tbody>\n",
       "    <tr>\n",
       "      <th>42</th>\n",
       "      <td>42</td>\n",
       "      <td>quit_smoke</td>\n",
       "      <td>51</td>\n",
       "    </tr>\n",
       "    <tr>\n",
       "      <th>7</th>\n",
       "      <td>7</td>\n",
       "      <td>cigarett_pack</td>\n",
       "      <td>18</td>\n",
       "    </tr>\n",
       "    <tr>\n",
       "      <th>110</th>\n",
       "      <td>110</td>\n",
       "      <td>studi_find</td>\n",
       "      <td>15</td>\n",
       "    </tr>\n",
       "    <tr>\n",
       "      <th>67</th>\n",
       "      <td>67</td>\n",
       "      <td>tobacco_product</td>\n",
       "      <td>12</td>\n",
       "    </tr>\n",
       "    <tr>\n",
       "      <th>111</th>\n",
       "      <td>111</td>\n",
       "      <td>studi_say</td>\n",
       "      <td>12</td>\n",
       "    </tr>\n",
       "  </tbody>\n",
       "</table>\n",
       "</div>"
      ],
      "text/plain": [
       "      ID             Word  Count\n",
       "42   42   quit_smoke       51   \n",
       "7    7    cigarett_pack    18   \n",
       "110  110  studi_find       15   \n",
       "67   67   tobacco_product  12   \n",
       "111  111  studi_say        12   "
      ]
     },
     "execution_count": 249,
     "metadata": {},
     "output_type": "execute_result"
    }
   ],
   "source": [
    "freq_corpus[freq_corpus.Word.str.contains('_')].sort_values(by = 'Count', ascending = False).head()"
   ]
  },
  {
   "cell_type": "markdown",
   "metadata": {},
   "source": [
    "**\"quit_smoking\"** and **\"cigarette_pack\"** are the most commonly occuring bigrams. We will skip the trigrams for now.\n",
    "\n",
    "Looks like we are ready to implement our sub-topic model now."
   ]
  },
  {
   "cell_type": "markdown",
   "metadata": {},
   "source": [
    "### <font color=tan>Modelling Method</font>\n",
    "We will use **LDA (latent Dirichlet allocation)** for our topic modelling exercise. In this method each document is assumed to be a collection of topics and each topic is assumed to be a collection of words.\n",
    "\n",
    "In more detail, LDA represents documents as mixtures of topics that spit out words with certain probabilities. It assumes that documents are produced in the following fashion:\n",
    "\n",
    "- Decide on the number of words N the document will have.\n",
    "- Choose a topic mixture for the document (from fixed set of K topics). \n",
    "- First picking a topic\n",
    "- Using the topic to generate the word itself (according to the topic’s word distribution)\n",
    "Assuming this generative model for a collection of documents, LDA then tries to backtrack from the documents to find a set of topics that are likely to have generated the collection.\n",
    "\n",
    "Fo more insights on the LDA method, feel free to visit this site [(LDA)](http://blog.echen.me/2011/08/22/introduction-to-latent-dirichlet-allocation/).\n",
    "\n",
    "### <font color=tan>LDA Python Implementation</font> \n",
    "We will use the gensim package to run LDA.\n",
    "\n",
    "**ldamodel = Lda(corpus, id2word, num_topics, random_state, update_every, chunksize, passes, alpha, per_word_topics)**\n",
    "\n",
    "**Parameters:**\t\n",
    "- **corpus** – Stream of document vectors or sparse matrix of shape (num_terms, num_documents). If not given, the model is left untrained (presumably because you want to call update() manually).\n",
    "- **num_topics** – The number of requested latent topics to be extracted from the training corpus.\n",
    "- **id2word** – Mapping from word IDs to words. It is used to determine the vocabulary size, as well as for debugging and topic printing.\n",
    "- **distributed** (bool, optional) – Whether distributed computing should be used to accelerate training.\n",
    "- **chunksize** (int, optional) – Number of documents to be used in each training chunk.\n",
    "- **passes** (int, optional) – Number of passes through the corpus during training.\n",
    "- **update_every** (int, optional) – Number of documents to be iterated through for each update. Set to 0 for batch learning, > 1 for online iterative learning.\n",
    "- **alpha** (optional) – Can be set to an 1D array of length equal to the number of expected topics that expresses our a-priori belief for the each topics’ probability.\n",
    "\n",
    "We will be mostly playing around with the number of topics to tune the model.\n",
    "\n",
    "### <font color=tan>Measuring model performance</font>\n",
    "Topic Coherence is a measure used to evaluate topic models. A good model will generate coherent topics (topics with high topic coherence scores).\n",
    "\n",
    "We will be running LDA from for number of topics ranging from 1 to 30."
   ]
  },
  {
   "cell_type": "code",
   "execution_count": 277,
   "metadata": {},
   "outputs": [],
   "source": [
    "num_topic_list = [x+1 for x in range(25)] # Range for the number of topics\n",
    "coherence_cv = {}\n",
    "coherence_umass = {}\n",
    "coherence_uci = {}\n",
    "coherence_npmi = {}\n",
    "perplexity = {}\n",
    "# Creating the object for LDA model using gensim library\n",
    "Lda = gensim.models.ldamodel.LdaModel"
   ]
  },
  {
   "cell_type": "markdown",
   "metadata": {},
   "source": [
    "Doing some iterations for tuning, I found out the optimal value of **alpha to be 0.5** and the number of **passes to be 100**. Below I will show you how the values of coherence vary as we vary the number of *topics* that the algorithm uses.\n",
    "\n",
    "<font color=red>Running the cell below will require about 10 mins of computing time.</font>"
   ]
  },
  {
   "cell_type": "code",
   "execution_count": 278,
   "metadata": {},
   "outputs": [
    {
     "name": "stdout",
     "output_type": "stream",
     "text": [
      "Coherence Score for 1 topics = 0.33\n",
      "Coherence Score for 2 topics = 0.43\n",
      "Coherence Score for 3 topics = 0.50\n",
      "Coherence Score for 4 topics = 0.48\n",
      "Coherence Score for 5 topics = 0.48\n",
      "Coherence Score for 6 topics = 0.49\n",
      "Coherence Score for 7 topics = 0.47\n",
      "Coherence Score for 8 topics = 0.45\n",
      "Coherence Score for 9 topics = 0.42\n",
      "Coherence Score for 10 topics = 0.46\n",
      "Coherence Score for 11 topics = 0.43\n",
      "Coherence Score for 12 topics = 0.44\n",
      "Coherence Score for 13 topics = 0.45\n",
      "Coherence Score for 14 topics = 0.42\n",
      "Coherence Score for 15 topics = 0.44\n",
      "Coherence Score for 16 topics = 0.42\n",
      "Coherence Score for 17 topics = 0.48\n",
      "Coherence Score for 18 topics = 0.44\n",
      "Coherence Score for 19 topics = 0.47\n",
      "Coherence Score for 20 topics = 0.46\n",
      "Coherence Score for 21 topics = 0.46\n",
      "Coherence Score for 22 topics = 0.46\n",
      "Coherence Score for 23 topics = 0.45\n",
      "Coherence Score for 24 topics = 0.46\n",
      "Coherence Score for 25 topics = 0.46\n",
      "524.6620054244995\n"
     ]
    }
   ],
   "source": [
    "start = time.time()\n",
    "for topic in num_topic_list:\n",
    "    ldamodel = Lda(corpus,\n",
    "               id2word = dictionary,\n",
    "               num_topics = topic,\n",
    "               random_state =  100,\n",
    "               update_every = 5,\n",
    "               chunksize = 25,\n",
    "               passes = 100,\n",
    "               alpha = 0.5,\n",
    "               per_word_topics = True)\n",
    "    \n",
    "    coherence_model_lda_cv = CoherenceModel(model=ldamodel, texts=docs, \n",
    "                                         dictionary=dictionary, coherence='c_v')\n",
    "    coherence_lda_cv = coherence_model_lda_cv.get_coherence()\n",
    "    \n",
    "    coherence_model_lda_umass = CoherenceModel(model=ldamodel, texts=docs, \n",
    "                                         dictionary=dictionary, coherence='u_mass')\n",
    "    coherence_lda_umass = coherence_model_lda_umass.get_coherence()  \n",
    "    \n",
    "    coherence_model_lda_uci = CoherenceModel(model=ldamodel, texts=docs, \n",
    "                                         dictionary=dictionary, coherence='c_uci')\n",
    "    coherence_lda_uci = coherence_model_lda_uci.get_coherence()      \n",
    "\n",
    "    coherence_model_lda_npmi = CoherenceModel(model=ldamodel, texts=docs, \n",
    "                                         dictionary=dictionary, coherence='c_npmi')\n",
    "    coherence_lda_npmi = coherence_model_lda_npmi.get_coherence() \n",
    "    \n",
    "    perplexity_lda = ldamodel.log_perplexity(corpus)\n",
    "    \n",
    "    coherence_cv[topic] = coherence_lda_cv\n",
    "    coherence_umass[topic] = coherence_lda_umass\n",
    "    coherence_uci[topic] = coherence_lda_uci\n",
    "    coherence_npmi[topic] = coherence_lda_npmi\n",
    "    perplexity[topic] = perplexity_lda\n",
    "    print(\"Coherence Score for %s topics = %0.2f\"%(topic, coherence_lda_cv))\n",
    "end = time.time()\n",
    "print(end - start)"
   ]
  },
  {
   "cell_type": "markdown",
   "metadata": {},
   "source": [
    "#### <font color = tan>Get coherence plots to get the optimum number of topics</font>"
   ]
  },
  {
   "cell_type": "code",
   "execution_count": 280,
   "metadata": {},
   "outputs": [],
   "source": [
    "#Do not run this if you have not run the model\n",
    "cv = [v for k,v in coherence_cv.items()]\n",
    "umass = [v for k,v in coherence_umass.items()]\n",
    "uci = [v for k,v in coherence_uci.items()]\n",
    "npmi = [v for k,v in coherence_npmi.items()]\n",
    "perplex = [v for k,v in perplexity.items()]"
   ]
  },
  {
   "cell_type": "code",
   "execution_count": 281,
   "metadata": {},
   "outputs": [
    {
     "data": {
      "image/png": "[encoded data removed]",
      "text/plain": [
       "<Figure size 432x288 with 1 Axes>"
      ]
     },
     "metadata": {
      "needs_background": "light"
     },
     "output_type": "display_data"
    },
    {
     "data": {
      "image/png": "[encoded data removed]",
      "text/plain": [
       "<Figure size 432x288 with 1 Axes>"
      ]
     },
     "metadata": {
      "needs_background": "light"
     },
     "output_type": "display_data"
    },
    {
     "data": {
      "image/png": "[encoded data removed]",
      "text/plain": [
       "<Figure size 432x288 with 1 Axes>"
      ]
     },
     "metadata": {
      "needs_background": "light"
     },
     "output_type": "display_data"
    },
    {
     "data": {
      "image/png": "[encoded data removed]",
      "text/plain": [
       "<Figure size 432x288 with 1 Axes>"
      ]
     },
     "metadata": {
      "needs_background": "light"
     },
     "output_type": "display_data"
    },
    {
     "data": {
      "image/png": "[encoded data removed]",
      "text/plain": [
       "<Figure size 432x288 with 1 Axes>"
      ]
     },
     "metadata": {
      "needs_background": "light"
     },
     "output_type": "display_data"
    }
   ],
   "source": [
    "plt.plot(num_topic_list, cv)\n",
    "plt.xlabel(\"Num Topics\")\n",
    "plt.ylabel(\"c_v\")\n",
    "plt.legend((\"c_v\"), loc='best')\n",
    "plt.show()\n",
    "\n",
    "plt.plot(num_topic_list, umass)\n",
    "plt.xlabel(\"Num Topics\")\n",
    "plt.ylabel(\"umass\")\n",
    "plt.legend((\"umass\"), loc='best')\n",
    "plt.show()\n",
    "\n",
    "plt.plot(num_topic_list, uci)\n",
    "plt.xlabel(\"Num Topics\")\n",
    "plt.ylabel(\"uci\")\n",
    "plt.legend((\"uci\"), loc='best')\n",
    "plt.show()\n",
    "\n",
    "plt.plot(num_topic_list, npmi)\n",
    "plt.xlabel(\"Num Topics\")\n",
    "plt.ylabel(\"npmi\")\n",
    "plt.legend((\"npmi\"), loc='best')\n",
    "plt.show()\n",
    "\n",
    "plt.plot(num_topic_list, perplex)\n",
    "plt.xlabel(\"Num Topics\")\n",
    "plt.ylabel(\"perplexity\")\n",
    "plt.legend((\"perplexity\"), loc='best')\n",
    "plt.show()"
   ]
  },
  {
   "cell_type": "markdown",
   "metadata": {},
   "source": [
    "The ''umass' and 'c_v' coherence plots peak for 3 topics. Let's try to visulaize the results with 3 topics and see how the results look."
   ]
  },
  {
   "cell_type": "markdown",
   "metadata": {},
   "source": [
    "### <font color=tan>Visualizing and publishing results</font>"
   ]
  },
  {
   "cell_type": "code",
   "execution_count": 317,
   "metadata": {},
   "outputs": [],
   "source": [
    "ldamodel = Lda(corpus, id2word = dictionary,num_topics = 3,\n",
    "               random_state = 100, update_every = 5, chunksize = 25,\n",
    "               passes = 100, alpha = 0.5, per_word_topics = True)"
   ]
  },
  {
   "cell_type": "code",
   "execution_count": 318,
   "metadata": {},
   "outputs": [
    {
     "name": "stdout",
     "output_type": "stream",
     "text": [
      "0.5017351859537915\n",
      "-11.028818163357869\n",
      "[0.6343460477497734, 0.4252922717014408, 0.44556723841016044]\n"
     ]
    }
   ],
   "source": [
    "coherence_model_lda_cv = CoherenceModel(model=ldamodel, texts=docs, \n",
    "                                         dictionary=dictionary, coherence='c_v')\n",
    "coherence_lda_cv = coherence_model_lda_cv.get_coherence()\n",
    "    \n",
    "coherence_model_lda_umass = CoherenceModel(model=ldamodel, texts=docs, \n",
    "                                         dictionary=dictionary, coherence='u_mass')\n",
    "coherence_lda_umass = coherence_model_lda_umass.get_coherence() \n",
    "print(coherence_lda_cv)\n",
    "print(coherence_lda_umass)\n",
    "print(coherence_model_lda_cv.get_coherence_per_topic())"
   ]
  },
  {
   "cell_type": "markdown",
   "metadata": {},
   "source": [
    "#### <font color=tan> Word Cloud for top 10 words/ngrams in a topic</font>"
   ]
  },
  {
   "cell_type": "code",
   "execution_count": 321,
   "metadata": {
    "scrolled": false
   },
   "outputs": [
    {
     "data": {
      "image/png": "[encoded data removed]",
      "text/plain": [
       "<Figure size 720x720 with 3 Axes>"
      ]
     },
     "metadata": {
      "needs_background": "light"
     },
     "output_type": "display_data"
    }
   ],
   "source": [
    "stop_words = set(stopwords.words('english'))\n",
    "cols = [color for name, color in mcolors.TABLEAU_COLORS.items()]*4 \n",
    "\n",
    "cloud = WordCloud(stopwords = stop_words,\n",
    "                  background_color = 'white',\n",
    "                  width = 2500,\n",
    "                  height = 1800,\n",
    "                  max_words = 10,\n",
    "                  colormap = 'tab10',\n",
    "                  color_func=lambda *args, \n",
    "                  **kwargs: cols[i],\n",
    "                  prefer_horizontal = 1.0)\n",
    "\n",
    "topics = ldamodel.show_topics(num_topics = 30,formatted=False)\n",
    "\n",
    "fig, axes = plt.subplots(3, 1, figsize=(10, 10), sharex=True, sharey=True)\n",
    "\n",
    "for i, ax in enumerate(axes.flatten()):\n",
    "    fig.add_subplot(ax)\n",
    "    topic_words = dict(topics[i][1])\n",
    "    cloud.generate_from_frequencies(topic_words, max_font_size=300)\n",
    "    plt.gca().imshow(cloud)\n",
    "    plt.gca().set_title('Topic ' + str(i), fontdict=dict(size=16))\n",
    "    plt.gca().axis('off')\n",
    "\n",
    "plt.subplots_adjust(wspace=10, hspace=10)\n",
    "plt.axis('off')\n",
    "plt.margins(x= 10, y= 50)\n",
    "plt.tight_layout()\n",
    "plt.show()"
   ]
  },
  {
   "cell_type": "markdown",
   "metadata": {},
   "source": [
    "#### <font color=tan>Writing cluster output</font>"
   ]
  },
  {
   "cell_type": "code",
   "execution_count": 322,
   "metadata": {},
   "outputs": [
    {
     "data": {
      "text/plain": [
       "[(0,\n",
       "  '0.285*\"e-cigarett\" + 0.119*\"quit\" + 0.074*\"quit_smoke\" + 0.051*\"help\" + 0.043*\"smoker\" + 0.032*\"ban\" + 0.031*\"call\" + 0.028*\"sale\" + 0.027*\"vape\" + 0.027*\"hookah\"'),\n",
       " (1,\n",
       "  '0.090*\"studi\" + 0.063*\"cigarett\" + 0.058*\"health\" + 0.051*\"risk\" + 0.046*\"say\" + 0.031*\"heart\" + 0.030*\"find\" + 0.023*\"warn\" + 0.022*\"drug\" + 0.022*\"rais\"'),\n",
       " (2,\n",
       "  '0.149*\"tobacco\" + 0.088*\"cigarett\" + 0.041*\"teen\" + 0.038*\"fda\" + 0.031*\"cv\" + 0.025*\"regul\" + 0.023*\"state\" + 0.021*\"report\" + 0.020*\"anti-smoke\" + 0.020*\"make\"')]"
      ]
     },
     "execution_count": 322,
     "metadata": {},
     "output_type": "execute_result"
    }
   ],
   "source": [
    "cluster_frame = pd.DataFrame.from_dict({topics[i][1][j]:i for j in range(10) for i in range(3)},orient='index')\n",
    "cluster_frame = cluster_frame.reset_index()\n",
    "cluster_frame.columns = [\"Word_Tuple\",\"Cluster\"]\n",
    "cluster_frame[['Word','Probability']] = pd.DataFrame(cluster_frame['Word_Tuple'].to_list(), index = cluster_frame.index)\n",
    "cluster_frame = cluster_frame[['Cluster','Word','Probability']].sort_values(['Cluster','Probability'],ascending = [1, 0])\n",
    "cluster_frame.to_csv(\"Task2_Cluster_Outputs.csv\", index = False)\n",
    "ldamodel.show_topics(num_topics=30, formatted = True)"
   ]
  },
  {
   "cell_type": "markdown",
   "metadata": {},
   "source": [
    "#### <font color = tan>PyLDAvis Visualization</font >\n",
    "We use the package pyLDA vis to visualize the results for our LDA model. The lambda parameter on the right hand side can be adjusted to get the most unique words for the topic (when lambda is close to 0) and most commonly occuring words (when lambda is close to 1)."
   ]
  },
  {
   "cell_type": "code",
   "execution_count": 319,
   "metadata": {},
   "outputs": [
    {
     "data": {
      "text/html": [
       "\n",
       "<link rel=\"stylesheet\" type=\"text/css\" href=\"https://cdn.rawgit.com/bmabey/pyLDAvis/files/ldavis.v1.0.0.css\">\n",
       "\n",
       "\n",
       "<div id=\"ldavis_el1068418493699222002430477100\"></div>\n",
       "<script type=\"text/javascript\">\n",
       "\n",
       "var ldavis_el1068418493699222002430477100_data = {\"mdsDat\": {\"x\": [-0.1001414763444304, -0.23382713548600528, 0.3339686118304356], \"y\": [-0.29717131269386715, 0.22720329513964996, 0.06996801755421708], \"topics\": [1, 2, 3], \"cluster\": [1, 1, 1], \"Freq\": [38.825321197509766, 36.581024169921875, 24.59366226196289]}, \"tinfo\": {\"Category\": [\"Default\", \"Default\", \"Default\", \"Default\", \"Default\", \"Default\", \"Default\", \"Default\", \"Default\", \"Default\", \"Default\", \"Default\", \"Default\", \"Default\", \"Default\", \"Default\", \"Default\", \"Default\", \"Default\", \"Default\", \"Default\", \"Default\", \"Default\", \"Default\", \"Default\", \"Default\", \"Default\", \"Default\", \"Default\", \"Default\", \"Topic1\", \"Topic1\", \"Topic1\", \"Topic1\", \"Topic1\", \"Topic1\", \"Topic1\", \"Topic1\", \"Topic1\", \"Topic1\", \"Topic1\", \"Topic1\", \"Topic1\", \"Topic1\", \"Topic1\", \"Topic1\", \"Topic1\", \"Topic1\", \"Topic1\", \"Topic1\", \"Topic1\", \"Topic1\", \"Topic1\", \"Topic1\", \"Topic1\", \"Topic1\", \"Topic1\", \"Topic1\", \"Topic1\", \"Topic1\", \"Topic1\", \"Topic1\", \"Topic1\", \"Topic1\", \"Topic2\", \"Topic2\", \"Topic2\", \"Topic2\", \"Topic2\", \"Topic2\", \"Topic2\", \"Topic2\", \"Topic2\", \"Topic2\", \"Topic2\", \"Topic2\", \"Topic2\", \"Topic2\", \"Topic2\", \"Topic2\", \"Topic2\", \"Topic2\", \"Topic2\", \"Topic2\", \"Topic2\", \"Topic2\", \"Topic2\", \"Topic2\", \"Topic2\", \"Topic2\", \"Topic2\", \"Topic2\", \"Topic2\", \"Topic2\", \"Topic2\", \"Topic2\", \"Topic2\", \"Topic3\", \"Topic3\", \"Topic3\", \"Topic3\", \"Topic3\", \"Topic3\", \"Topic3\", \"Topic3\", \"Topic3\", \"Topic3\", \"Topic3\", \"Topic3\", \"Topic3\", \"Topic3\", \"Topic3\", \"Topic3\", \"Topic3\", \"Topic3\", \"Topic3\", \"Topic3\", \"Topic3\", \"Topic3\", \"Topic3\", \"Topic3\", \"Topic3\", \"Topic3\", \"Topic3\", \"Topic3\", \"Topic3\", \"Topic3\", \"Topic3\", \"Topic3\", \"Topic3\", \"Topic3\", \"Topic3\", \"Topic3\"], \"Freq\": [195.0, 152.0, 81.0, 97.0, 51.0, 62.0, 56.0, 157.0, 50.0, 47.0, 29.0, 42.0, 39.0, 22.0, 34.0, 21.0, 31.0, 32.0, 19.0, 19.0, 19.0, 25.0, 16.0, 24.0, 25.0, 24.0, 24.0, 14.0, 23.0, 21.0, 96.7694091796875, 62.223602294921875, 55.46234893798828, 49.534828186035156, 33.647789001464844, 31.988346099853516, 25.099008560180664, 23.949684143066406, 22.47721290588379, 23.357505798339844, 21.510149002075195, 20.777362823486328, 18.950977325439453, 20.9526424407959, 19.665395736694336, 18.910701751708984, 18.435527801513672, 18.54189682006836, 17.807497024536133, 17.223209381103516, 16.496042251586914, 15.965259552001953, 14.112370491027832, 13.615533828735352, 13.159226417541504, 14.100284576416016, 18.192508697509766, 12.586983680725098, 13.284219741821289, 12.96277904510498, 13.109169006347656, 67.86190032958984, 21.184425354003906, 15.336525917053223, 151.60728454589844, 41.819339752197266, 38.654624938964844, 31.1162109375, 25.057865142822266, 23.80828285217285, 21.107255935668945, 19.92083740234375, 19.488353729248047, 20.475162506103516, 19.746912002563477, 18.858476638793945, 17.544065475463867, 20.303491592407227, 16.36492919921875, 15.216354370117188, 16.328256607055664, 15.976557731628418, 15.777810096740723, 13.414823532104492, 14.626330375671387, 13.099122047424316, 13.827284812927246, 13.950358390808105, 13.029498100280762, 13.989572525024414, 12.337846755981445, 13.563423156738281, 11.531302452087402, 13.832060813903809, 13.079446792602539, 12.741095542907715, 89.16741180419922, 194.37930297851562, 81.00743103027344, 50.576377868652344, 29.140419006347656, 21.552581787109375, 21.16221809387207, 18.748275756835938, 18.868053436279297, 18.413000106811523, 16.02195930480957, 13.86296558380127, 13.543281555175781, 12.494975090026855, 12.939970970153809, 12.858241081237793, 10.574737548828125, 10.201315879821777, 13.222455978393555, 35.151885986328125, 12.094782829284668, 7.645236015319824, 5.521037578582764, 8.222960472106934, 5.058582305908203, 5.254945278167725, 0.3683137893676758, 0.38565894961357117, 0.38199377059936523, 0.404666006565094, 0.3598310947418213, 0.43842485547065735, 0.620877742767334, 0.40248778462409973, 0.4184193015098572, 0.4050489068031311, 0.4125329852104187], \"Term\": [\"e-cigarett\", \"tobacco\", \"quit\", \"studi\", \"quit_smoke\", \"health\", \"risk\", \"cigarett\", \"say\", \"help\", \"smoker\", \"teen\", \"fda\", \"ban\", \"heart\", \"call\", \"cv\", \"find\", \"sale\", \"vape\", \"hookah\", \"regul\", \"million\", \"state\", \"warn\", \"drug\", \"rais\", \"public\", \"pack\", \"report\", \"studi\", \"health\", \"risk\", \"say\", \"heart\", \"find\", \"warn\", \"drug\", \"pack\", \"rais\", \"death\", \"cancer\", \"cigarett_pack\", \"more\", \"show\", \"nicotin\", \"year\", \"what\", \"link\", \"studi_find\", \"e-cig\", \"high\", \"studi_say\", \"increas\", \"obes\", \"time\", \"research\", \"diseas\", \"danger\", \"need\", \"york\", \"cigarett\", \"like\", \"from\", \"tobacco\", \"teen\", \"fda\", \"cv\", \"regul\", \"state\", \"report\", \"sell\", \"product\", \"anti-smoke\", \"rule\", \"rate\", \"gener\", \"make\", \"stop\", \"adult\", \"kid\", \"cdc\", \"move\", \"menthol\", \"urg\", \"tobacco_product\", \"plan\", \"doctor\", \"first\", \"american\", \"electron\", \"among\", \"menthol_cigarett\", \"take\", \"flavor\", \"look\", \"cigarett\", \"e-cigarett\", \"quit\", \"quit_smoke\", \"smoker\", \"ban\", \"call\", \"vape\", \"sale\", \"hookah\", \"million\", \"public\", \"plain\", \"packag\", \"propos\", \"graphic\", \"debat\", \"regular\", \"tri\", \"help\", \"video\", \"healthtalk\", \"user\", \"could\", \"want\", \"weight\", \"flavour\", \"tough\", \"us\", \"possibl\", \"campaign\", \"peopl\", \"research\", \"use\", \"cdc\", \"flavor\", \"find\"], \"Total\": [195.0, 152.0, 81.0, 97.0, 51.0, 62.0, 56.0, 157.0, 50.0, 47.0, 29.0, 42.0, 39.0, 22.0, 34.0, 21.0, 31.0, 32.0, 19.0, 19.0, 19.0, 25.0, 16.0, 24.0, 25.0, 24.0, 24.0, 14.0, 23.0, 21.0, 97.4609603881836, 62.935882568359375, 56.12346649169922, 50.26353073120117, 34.30118942260742, 32.71361541748047, 25.77235221862793, 24.639904022216797, 23.12906265258789, 24.048547744750977, 22.17967414855957, 21.484188079833984, 19.597017288208008, 21.668285369873047, 20.373842239379883, 19.593524932861328, 19.11528968811035, 19.237186431884766, 18.475967407226562, 17.8841552734375, 17.17364501953125, 16.646121978759766, 14.773276329040527, 14.272527694702148, 13.809197425842285, 14.801198959350586, 19.1299991607666, 13.242024421691895, 13.979307174682617, 13.649481773376465, 13.835724830627441, 157.4197235107422, 33.230201721191406, 20.720016479492188, 152.33648681640625, 42.58149719238281, 39.368038177490234, 31.820077896118164, 25.803733825683594, 24.522329330444336, 21.839956283569336, 20.621919631958008, 20.180130004882812, 21.21949577331543, 20.48383903503418, 19.587886810302734, 18.23906898498535, 21.13519859313965, 17.11591339111328, 15.922325134277344, 17.098716735839844, 16.76039695739746, 16.56649398803711, 14.092767715454102, 15.37482738494873, 13.790461540222168, 14.578572273254395, 14.71518325805664, 13.775045394897461, 14.79848575592041, 13.055542945861816, 14.354181289672852, 12.20959186553955, 14.645904541015625, 13.85911750793457, 13.51407241821289, 157.4197235107422, 195.0540771484375, 81.66674041748047, 51.2188835144043, 29.80526351928711, 22.203956604003906, 21.87189483642578, 19.40970230102539, 19.553964614868164, 19.114166259765625, 16.770488739013672, 14.52196216583252, 14.237826347351074, 13.149232864379883, 13.656888961791992, 13.630966186523438, 11.226140975952148, 10.953288078308105, 14.38591480255127, 47.006591796875, 18.442724227905273, 11.8087797164917, 12.234500885009766, 20.354171752929688, 12.720270156860352, 15.324682235717773, 7.387226104736328, 8.697562217712402, 9.053791046142578, 10.129711151123047, 9.036277770996094, 11.643799781799316, 19.1299991607666, 12.55774211883545, 16.76039695739746, 13.85911750793457, 32.71361541748047], \"loglift\": [30.0, 29.0, 28.0, 27.0, 26.0, 25.0, 24.0, 23.0, 22.0, 21.0, 20.0, 19.0, 18.0, 17.0, 16.0, 15.0, 14.0, 13.0, 12.0, 11.0, 10.0, 9.0, 8.0, 7.0, 6.0, 5.0, 4.0, 3.0, 2.0, 1.0, 0.9390000104904175, 0.9347000122070312, 0.9341999888420105, 0.9315000176429749, 0.9269000291824341, 0.9236999750137329, 0.9196000099182129, 0.9176999926567078, 0.9175000190734863, 0.9168999791145325, 0.9154000282287598, 0.9125999808311462, 0.9125999808311462, 0.9125000238418579, 0.9107000231742859, 0.9106000065803528, 0.9099000096321106, 0.9093000292778015, 0.9092000126838684, 0.9083999991416931, 0.9057999849319458, 0.9042999744415283, 0.9003000259399414, 0.8989999890327454, 0.8978999853134155, 0.897599995136261, 0.895799994468689, 0.8953999876976013, 0.8950999975204468, 0.8945000171661377, 0.8921999931335449, 0.1046999990940094, 0.4959000051021576, 0.6452000141143799, 1.0008000135421753, 0.9876000285148621, 0.9873999953269958, 0.983299970626831, 0.9763000011444092, 0.9761000275611877, 0.9714999794960022, 0.9710999727249146, 0.97079998254776, 0.9699000120162964, 0.968999981880188, 0.9677000045776367, 0.9667999744415283, 0.965499997138977, 0.9607999920845032, 0.9603000283241272, 0.9595000147819519, 0.9577000141143799, 0.9569000005722046, 0.9563000202178955, 0.9556999802589417, 0.954200029373169, 0.9527000188827515, 0.9523000121116638, 0.949999988079071, 0.949400007724762, 0.9491000175476074, 0.9490000009536743, 0.9484999775886536, 0.9484999775886536, 0.947700023651123, 0.9466999769210815, 0.43720000982284546, 1.3991999626159668, 1.3946000337600708, 1.3901000022888184, 1.3801000118255615, 1.3729000091552734, 1.3696999549865723, 1.3680000305175781, 1.3669999837875366, 1.3653000593185425, 1.3569999933242798, 1.3561999797821045, 1.3526999950408936, 1.3516000509262085, 1.3487999439239502, 1.3443000316619873, 1.342900037765503, 1.3315999507904053, 1.3183000087738037, 1.1121000051498413, 0.9807999730110168, 0.9678999781608582, 0.6069999933242798, 0.49630001187324524, 0.4805999994277954, 0.33239999413490295, -1.595900058746338, -1.7131999731063843, -1.7628999948501587, -1.8174999952316284, -1.8207000494003296, -1.8767000436782837, -2.0251998901367188, -2.0376999378204346, -2.287600040435791, -2.130000114440918, -2.9704999923706055], \"logprob\": [30.0, 29.0, 28.0, 27.0, 26.0, 25.0, 24.0, 23.0, 22.0, 21.0, 20.0, 19.0, 18.0, 17.0, 16.0, 15.0, 14.0, 13.0, 12.0, 11.0, 10.0, 9.0, 8.0, 7.0, 6.0, 5.0, 4.0, 3.0, 2.0, 1.0, -2.4107000827789307, -2.852299928665161, -2.9672999382019043, -3.080399990081787, -3.467099905014038, -3.517699956893921, -3.760200023651123, -3.8071000576019287, -3.870500087738037, -3.8320999145507812, -3.9144999980926514, -3.949199914932251, -4.041200160980225, -3.9407999515533447, -4.004199981689453, -4.043300151824951, -4.068699836730957, -4.063000202178955, -4.103400230407715, -4.1367998123168945, -4.179900169372559, -4.212600231170654, -4.335999965667725, -4.371799945831299, -4.405900001525879, -4.3368000984191895, -4.081999778747559, -4.450399875640869, -4.396500110626221, -4.420899868011475, -4.4096999168396, -2.7655999660491943, -3.929800033569336, -4.252799987792969, -1.9021999835968018, -3.1900999546051025, -3.2688000202178955, -3.48580002784729, -3.7023000717163086, -3.753499984741211, -3.8738999366760254, -3.9316999912261963, -3.953700065612793, -3.9042999744415283, -3.940500020980835, -3.9865000247955322, -4.058800220489502, -3.9126999378204346, -4.128300189971924, -4.201099872589111, -4.1305999755859375, -4.152400016784668, -4.164899826049805, -4.327099800109863, -4.240699768066406, -4.350900173187256, -4.296800136566162, -4.288000106811523, -4.356299877166748, -4.285200119018555, -4.410799980163574, -4.316100120544434, -4.478400230407715, -4.296500205993652, -4.352399826049805, -4.378699779510498, -2.433000087738037, -1.256600022315979, -2.1319000720977783, -2.6029999256134033, -3.1542999744415283, -3.455899953842163, -3.4742000102996826, -3.5952999591827393, -3.5889999866485596, -3.6133999824523926, -3.752500057220459, -3.897200107574463, -3.920599937438965, -4.001100063323975, -3.966099977493286, -3.9725000858306885, -4.168000221252441, -4.20389986038208, -3.944499969482422, -2.9667999744415283, -4.033699989318848, -4.492400169372559, -4.81790018081665, -4.41949987411499, -4.905399799346924, -4.867300033569336, -7.525300025939941, -7.4791998863220215, -7.488800048828125, -7.431099891662598, -7.548600196838379, -7.35099983215332, -7.0030999183654785, -7.436500072479248, -7.39769983291626, -7.430200099945068, -7.411900043487549]}, \"token.table\": {\"Topic\": [2, 2, 2, 2, 3, 3, 2, 1, 2, 1, 2, 1, 2, 3, 2, 1, 1, 3, 1, 2, 1, 1, 3, 2, 2, 1, 2, 2, 2, 1, 2, 2, 3, 1, 1, 3, 1, 1, 3, 1, 3, 1, 2, 1, 2, 1, 2, 2, 2, 2, 3, 1, 2, 1, 1, 1, 1, 3, 2, 3, 2, 1, 2, 3, 3, 3, 3, 1, 2, 2, 3, 2, 1, 3, 1, 2, 3, 1, 2, 1, 3, 2, 2, 1, 1, 1, 2, 2, 1, 2, 2, 2, 1, 3, 2, 1, 2, 2, 3, 3, 1, 3, 1, 3, 1, 1, 3, 1, 1, 1], \"Freq\": [0.9420734643936157, 0.9460427165031433, 0.9753255844116211, 0.9425294399261475, 0.9908143877983093, 0.9601362943649292, 0.8853203058242798, 0.9774630665779114, 0.9546313285827637, 0.43196621537208557, 0.5653675198554993, 0.9695352911949158, 0.5895597338676453, 0.3930398225784302, 0.9742276668548584, 0.9299459457397461, 0.9918991327285767, 0.9798558354377747, 0.9817230105400085, 0.9513982534408569, 0.9740297794342041, 0.9316601157188416, 0.994596004486084, 0.9191498160362244, 0.9906513690948486, 0.9781859517097473, 0.9437355399131775, 0.9380106925964355, 0.9475816488265991, 0.7239376306533813, 0.24131254851818085, 0.9868924617767334, 0.9537108540534973, 0.9851295948028564, 0.3387310206890106, 0.6774620413780212, 0.9912192821502686, 0.2552833557128906, 0.7445763945579529, 0.9611848592758179, 0.9417099356651306, 0.9809054136276245, 0.9357427358627319, 0.6319552659988403, 0.36111727356910706, 0.9742385745048523, 0.9619601964950562, 0.9462887048721313, 0.9224589467048645, 0.9828338623046875, 0.9540568590164185, 0.9691583514213562, 0.9658048152923584, 0.9524171352386475, 0.9697080850601196, 0.9414015412330627, 0.9511842727661133, 0.9126007556915283, 0.9447087645530701, 0.9832961559295654, 0.9603134989738464, 0.8884754776954651, 0.9415202140808105, 0.9519005417823792, 0.9640570282936096, 0.9918358325958252, 0.9957265257835388, 0.9563987255096436, 0.9699872136116028, 0.9688520431518555, 0.9129678606987, 0.9615404009819031, 0.9409305453300476, 0.05227391794323921, 0.9799822568893433, 0.9763794541358948, 0.9716699719429016, 0.9947569966316223, 0.9698418378829956, 0.9816508889198303, 0.9729825258255005, 0.9786998629570007, 0.9348025918006897, 0.995270311832428, 0.950562059879303, 0.9476571083068848, 0.955898642539978, 0.9863439202308655, 0.9458693265914917, 0.9977911710739136, 0.9426805377006531, 0.919797956943512, 0.06951243430376053, 0.9036616683006287, 0.975620687007904, 0.8836077451705933, 0.955585777759552, 0.49041640758514404, 0.49041640758514404, 0.978891909122467, 0.32533153891563416, 0.6506630778312683, 0.5503028035163879, 0.3930734097957611, 0.97003173828125, 0.6525420546531677, 0.32627102732658386, 0.9876704216003418, 0.9416545629501343, 0.9395965933799744], \"Term\": [\"adult\", \"american\", \"among\", \"anti-smoke\", \"ban\", \"call\", \"campaign\", \"cancer\", \"cdc\", \"cigarett\", \"cigarett\", \"cigarett_pack\", \"could\", \"could\", \"cv\", \"danger\", \"death\", \"debat\", \"diseas\", \"doctor\", \"drug\", \"e-cig\", \"e-cigarett\", \"electron\", \"fda\", \"find\", \"first\", \"flavor\", \"flavour\", \"from\", \"from\", \"gener\", \"graphic\", \"health\", \"healthtalk\", \"healthtalk\", \"heart\", \"help\", \"help\", \"high\", \"hookah\", \"increas\", \"kid\", \"like\", \"like\", \"link\", \"look\", \"make\", \"menthol\", \"menthol_cigarett\", \"million\", \"more\", \"move\", \"need\", \"nicotin\", \"obes\", \"pack\", \"packag\", \"peopl\", \"plain\", \"plan\", \"possibl\", \"product\", \"propos\", \"public\", \"quit\", \"quit_smoke\", \"rais\", \"rate\", \"regul\", \"regular\", \"report\", \"research\", \"research\", \"risk\", \"rule\", \"sale\", \"say\", \"sell\", \"show\", \"smoker\", \"state\", \"stop\", \"studi\", \"studi_find\", \"studi_say\", \"take\", \"teen\", \"time\", \"tobacco\", \"tobacco_product\", \"tough\", \"tri\", \"tri\", \"urg\", \"us\", \"use\", \"user\", \"user\", \"vape\", \"video\", \"video\", \"want\", \"want\", \"warn\", \"weight\", \"weight\", \"what\", \"year\", \"york\"]}, \"R\": 30, \"lambda.step\": 0.01, \"plot.opts\": {\"xlab\": \"PC1\", \"ylab\": \"PC2\"}, \"topic.order\": [2, 3, 1]};\n",
       "\n",
       "function LDAvis_load_lib(url, callback){\n",
       "  var s = document.createElement('script');\n",
       "  s.src = url;\n",
       "  s.async = true;\n",
       "  s.onreadystatechange = s.onload = callback;\n",
       "  s.onerror = function(){console.warn(\"failed to load library \" + url);};\n",
       "  document.getElementsByTagName(\"head\")[0].appendChild(s);\n",
       "}\n",
       "\n",
       "if(typeof(LDAvis) !== \"undefined\"){\n",
       "   // already loaded: just create the visualization\n",
       "   !function(LDAvis){\n",
       "       new LDAvis(\"#\" + \"ldavis_el1068418493699222002430477100\", ldavis_el1068418493699222002430477100_data);\n",
       "   }(LDAvis);\n",
       "}else if(typeof define === \"function\" && define.amd){\n",
       "   // require.js is available: use it to load d3/LDAvis\n",
       "   require.config({paths: {d3: \"https://cdnjs.cloudflare.com/ajax/libs/d3/3.5.5/d3.min\"}});\n",
       "   require([\"d3\"], function(d3){\n",
       "      window.d3 = d3;\n",
       "      LDAvis_load_lib(\"https://cdn.rawgit.com/bmabey/pyLDAvis/files/ldavis.v1.0.0.js\", function(){\n",
       "        new LDAvis(\"#\" + \"ldavis_el1068418493699222002430477100\", ldavis_el1068418493699222002430477100_data);\n",
       "      });\n",
       "    });\n",
       "}else{\n",
       "    // require.js not available: dynamically load d3 & LDAvis\n",
       "    LDAvis_load_lib(\"https://cdnjs.cloudflare.com/ajax/libs/d3/3.5.5/d3.min.js\", function(){\n",
       "         LDAvis_load_lib(\"https://cdn.rawgit.com/bmabey/pyLDAvis/files/ldavis.v1.0.0.js\", function(){\n",
       "                 new LDAvis(\"#\" + \"ldavis_el1068418493699222002430477100\", ldavis_el1068418493699222002430477100_data);\n",
       "            })\n",
       "         });\n",
       "}\n",
       "</script>"
      ],
      "text/plain": [
       "PreparedData(topic_coordinates=              x         y  topics  cluster       Freq\n",
       "topic                                                \n",
       "1     -0.100141 -0.297171  1       1        38.825321\n",
       "2     -0.233827  0.227203  2       1        36.581024\n",
       "0      0.333969  0.069968  3       1        24.593662, topic_info=    Category        Freq        Term       Total  loglift  logprob\n",
       "1    Default  195.000000  e-cigarett  195.000000  30.0000  30.0000\n",
       "4    Default  152.000000  tobacco     152.000000  29.0000  29.0000\n",
       "20   Default  81.000000   quit        81.000000   28.0000  28.0000\n",
       "58   Default  97.000000   studi       97.000000   27.0000  27.0000\n",
       "42   Default  51.000000   quit_smoke  51.000000   26.0000  26.0000\n",
       "38   Default  62.000000   health      62.000000   25.0000  25.0000\n",
       "43   Default  56.000000   risk        56.000000   24.0000  24.0000\n",
       "6    Default  157.000000  cigarett    157.000000  23.0000  23.0000\n",
       "63   Default  50.000000   say         50.000000   22.0000  22.0000\n",
       "19   Default  47.000000   help        47.000000   21.0000  21.0000\n",
       "14   Default  29.000000   smoker      29.000000   20.0000  20.0000\n",
       "3    Default  42.000000   teen        42.000000   19.0000  19.0000\n",
       "96   Default  39.000000   fda         39.000000   18.0000  18.0000\n",
       "16   Default  22.000000   ban         22.000000   17.0000  17.0000\n",
       "70   Default  34.000000   heart       34.000000   16.0000  16.0000\n",
       "13   Default  21.000000   call        21.000000   15.0000  15.0000\n",
       "74   Default  31.000000   cv          31.000000   14.0000  14.0000\n",
       "109  Default  32.000000   find        32.000000   13.0000  13.0000\n",
       "40   Default  19.000000   sale        19.000000   12.0000  12.0000\n",
       "53   Default  19.000000   vape        19.000000   11.0000  11.0000\n",
       "71   Default  19.000000   hookah      19.000000   10.0000  10.0000\n",
       "33   Default  25.000000   regul       25.000000   9.0000   9.0000 \n",
       "36   Default  16.000000   million     16.000000   8.0000   8.0000 \n",
       "112  Default  24.000000   state       24.000000   7.0000   7.0000 \n",
       "22   Default  25.000000   warn        25.000000   6.0000   6.0000 \n",
       "64   Default  24.000000   drug        24.000000   5.0000   5.0000 \n",
       "49   Default  24.000000   rais        24.000000   4.0000   4.0000 \n",
       "48   Default  14.000000   public      14.000000   3.0000   3.0000 \n",
       "8    Default  23.000000   pack        23.000000   2.0000   2.0000 \n",
       "89   Default  21.000000   report      21.000000   1.0000   1.0000 \n",
       "..       ...        ...      ...            ...      ...      ... \n",
       "53   Topic3   18.748276   vape        19.409702   1.3680  -3.5953 \n",
       "40   Topic3   18.868053   sale        19.553965   1.3670  -3.5890 \n",
       "71   Topic3   18.413000   hookah      19.114166   1.3653  -3.6134 \n",
       "36   Topic3   16.021959   million     16.770489   1.3570  -3.7525 \n",
       "48   Topic3   13.862966   public      14.521962   1.3562  -3.8972 \n",
       "11   Topic3   13.543282   plain       14.237826   1.3527  -3.9206 \n",
       "10   Topic3   12.494975   packag      13.149233   1.3516  -4.0011 \n",
       "73   Topic3   12.939971   propos      13.656889   1.3488  -3.9661 \n",
       "116  Topic3   12.858241   graphic     13.630966   1.3443  -3.9725 \n",
       "27   Topic3   10.574738   debat       11.226141   1.3429  -4.1680 \n",
       "59   Topic3   10.201316   regular     10.953288   1.3316  -4.2039 \n",
       "29   Topic3   13.222456   tri         14.385915   1.3183  -3.9445 \n",
       "19   Topic3   35.151886   help        47.006592   1.1121  -2.9668 \n",
       "15   Topic3   12.094783   video       18.442724   0.9808  -4.0337 \n",
       "107  Topic3   7.645236    healthtalk  11.808780   0.9679  -4.4924 \n",
       "37   Topic3   5.521038    user        12.234501   0.6070  -4.8179 \n",
       "47   Topic3   8.222960    could       20.354172   0.4963  -4.4195 \n",
       "93   Topic3   5.058582    want        12.720270   0.4806  -4.9054 \n",
       "56   Topic3   5.254945    weight      15.324682   0.3324  -4.8673 \n",
       "61   Topic3   0.368314    flavour     7.387226   -1.5959  -7.5253 \n",
       "39   Topic3   0.385659    tough       8.697562   -1.7132  -7.4792 \n",
       "41   Topic3   0.381994    us          9.053791   -1.7629  -7.4888 \n",
       "51   Topic3   0.404666    possibl     10.129711  -1.8175  -7.4311 \n",
       "18   Topic3   0.359831    campaign    9.036278   -1.8207  -7.5486 \n",
       "97   Topic3   0.438425    peopl       11.643800  -1.8767  -7.3510 \n",
       "62   Topic3   0.620878    research    19.129999  -2.0252  -7.0031 \n",
       "86   Topic3   0.402488    use         12.557742  -2.0377  -7.4365 \n",
       "117  Topic3   0.418419    cdc         16.760397  -2.2876  -7.3977 \n",
       "104  Topic3   0.405049    flavor      13.859118  -2.1300  -7.4302 \n",
       "109  Topic3   0.412533    find        32.713615  -2.9705  -7.4119 \n",
       "\n",
       "[133 rows x 6 columns], token_table=      Topic      Freq             Term\n",
       "term                                  \n",
       "84    2      0.942073  adult          \n",
       "69    2      0.946043  american       \n",
       "0     2      0.975326  among          \n",
       "9     2      0.942529  anti-smoke     \n",
       "16    3      0.990814  ban            \n",
       "13    3      0.960136  call           \n",
       "18    2      0.885320  campaign       \n",
       "30    1      0.977463  cancer         \n",
       "117   2      0.954631  cdc            \n",
       "6     1      0.431966  cigarett       \n",
       "6     2      0.565368  cigarett       \n",
       "7     1      0.969535  cigarett_pack  \n",
       "47    2      0.589560  could          \n",
       "47    3      0.393040  could          \n",
       "74    2      0.974228  cv             \n",
       "54    1      0.929946  danger         \n",
       "92    1      0.991899  death          \n",
       "27    3      0.979856  debat          \n",
       "72    1      0.981723  diseas         \n",
       "28    2      0.951398  doctor         \n",
       "64    1      0.974030  drug           \n",
       "25    1      0.931660  e-cig          \n",
       "1     3      0.994596  e-cigarett     \n",
       "34    2      0.919150  electron       \n",
       "96    2      0.990651  fda            \n",
       "109   1      0.978186  find           \n",
       "101   2      0.943736  first          \n",
       "104   2      0.938011  flavor         \n",
       "61    2      0.947582  flavour        \n",
       "115   1      0.723938  from           \n",
       "...  ..           ...      ...        \n",
       "14    3      0.972983  smoker         \n",
       "112   2      0.978700  state          \n",
       "80    2      0.934803  stop           \n",
       "58    1      0.995270  studi          \n",
       "110   1      0.950562  studi_find     \n",
       "111   1      0.947657  studi_say      \n",
       "66    2      0.955899  take           \n",
       "3     2      0.986344  teen           \n",
       "91    1      0.945869  time           \n",
       "4     2      0.997791  tobacco        \n",
       "67    2      0.942681  tobacco_product\n",
       "39    2      0.919798  tough          \n",
       "29    1      0.069512  tri            \n",
       "29    3      0.903662  tri            \n",
       "52    2      0.975621  urg            \n",
       "41    1      0.883608  us             \n",
       "86    2      0.955586  use            \n",
       "37    2      0.490416  user           \n",
       "37    3      0.490416  user           \n",
       "53    3      0.978892  vape           \n",
       "15    1      0.325332  video          \n",
       "15    3      0.650663  video          \n",
       "93    1      0.550303  want           \n",
       "93    3      0.393073  want           \n",
       "22    1      0.970032  warn           \n",
       "56    1      0.652542  weight         \n",
       "56    3      0.326271  weight         \n",
       "24    1      0.987670  what           \n",
       "81    1      0.941655  year           \n",
       "50    1      0.939597  york           \n",
       "\n",
       "[110 rows x 3 columns], R=30, lambda_step=0.01, plot_opts={'xlab': 'PC1', 'ylab': 'PC2'}, topic_order=[2, 3, 1])"
      ]
     },
     "execution_count": 319,
     "metadata": {},
     "output_type": "execute_result"
    }
   ],
   "source": [
    "pyLDAvis.enable_notebook()\n",
    "vis = pyLDAvis.gensim.prepare(ldamodel, corpus, dictionary = dictionary)\n",
    "vis"
   ]
  },
  {
   "cell_type": "markdown",
   "metadata": {},
   "source": [
    "### <font color=tan>Conclusion</font>\n",
    "\n",
    "**Lets us summarize our observations about few of the sub topics in the topic \"Tobacco Use\" from the word cloud, printed topics and the pyLDAvis notebook.** *(Topic numbers are consistent with pyLDAvis)*<br>\n",
    "**Topic 1** : Topic 1 is about studies suggesting heart risk is increased by using tobacco. -- **\"Tobacco Use Risks\"**<br>\n",
    "**Topic 2** : Topic 2 suggests FDA is trying to regulate tobacco use in teens using anti-smoking rules. --**\"Regulate Tobacco Use\"**<br>\n",
    "**Topic 3** : Topics 3 is about the products that help quit smoking using e-cigarettes, apes and hookahs. --**\"How to quit smoking?\"**<br>"
   ]
  },
  {
   "cell_type": "markdown",
   "metadata": {},
   "source": [
    "Overall running several iterations and visualizing each of them using pyLDAvis, I got to know lower value of alpha (typically 0.2-0.6) resulted in topics being differentiable from each other whereas higher values of alpha (>1) resulted in overlapping topics. However, finding the optimal number of topics to be used shall come out from experience of the data and the quantity of data on which the model is being run as the coherence plots peak for more than one value and it becomes difficult to decide on the number of topics just by looking at the coherence plots."
   ]
  }
 ],
 "metadata": {
  "kernelspec": {
   "display_name": "Python 3",
   "language": "python",
   "name": "python3"
  },
  "language_info": {
   "codemirror_mode": {
    "name": "ipython",
    "version": 3
   },
   "file_extension": ".py",
   "mimetype": "text/x-python",
   "name": "python",
   "nbconvert_exporter": "python",
   "pygments_lexer": "ipython3",
   "version": "3.7.0"
  }
 },
 "nbformat": 4,
 "nbformat_minor": 2
}
